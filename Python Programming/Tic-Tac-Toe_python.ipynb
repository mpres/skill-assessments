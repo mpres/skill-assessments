{
 "cells": [
  {
   "cell_type": "code",
   "execution_count": 1,
   "id": "112cd9ea-99b9-4b39-a860-3eeeb0167445",
   "metadata": {},
   "outputs": [],
   "source": [
    "#Mprelsey 7/24/23\n",
    "import os\n",
    "import sys\n",
    "import random\n",
    "import time\n",
    "import re"
   ]
  },
  {
   "cell_type": "code",
   "execution_count": 3,
   "id": "cabd1819-fea2-41dc-9b23-0cc89d056c48",
   "metadata": {},
   "outputs": [],
   "source": [
    "def printGrid(grid,round):\n",
    "    print('###############')\n",
    "    print('')\n",
    "    print('### Round',round, '###' )\n",
    "    print('')\n",
    "    print('###############')\n",
    "    print('')\n",
    "    print('Current Board')\n",
    "    print('')\n",
    "    print('~~~~~~~~~~~~~~')\n",
    "    print('     ','0','1','2')\n",
    "    i = 0\n",
    "    for g in grid:\n",
    "        print(\"   \",i,g[0],g[1],g[2])\n",
    "        i += 1\n",
    "    print('~~~~~~~~~~~~~~')\n",
    "    print('')"
   ]
  },
  {
   "cell_type": "code",
   "execution_count": 4,
   "id": "5199a832-d86e-41af-ba2e-263515d7ebfa",
   "metadata": {},
   "outputs": [],
   "source": [
    "#Mpresley 7/24/23 create lookForWin, (this will be ran after each move), "
   ]
  },
  {
   "cell_type": "code",
   "execution_count": 5,
   "id": "6b263b16-7638-4cfe-93f2-041758252ac6",
   "metadata": {},
   "outputs": [],
   "source": [
    "def lookForWin(grid):\n",
    "    #look for three in a row up top\n",
    "\n",
    "    if (grid[0][0] == grid[0][1] and grid[0][1] == grid[0][2] and grid[0][0] != '.'):\n",
    "        return(\"Congratulations\",grid[0][0],\" you got three in a row!\") \n",
    "    elif (grid[1][0] == grid[1][1] and grid[1][0] == grid[1][2] and grid[1][0] != '.'):\n",
    "        return(\"Congratulations\",grid[1][0],\" you got three in a row!\") \n",
    "    elif (grid[2][0] == grid[2][1] and grid[2][0] == grid[2][2] and grid[2][0] != '.'):\n",
    "        return(\"Congratulations\",grid[2][0],\" you got three in a row!\") \n",
    "\n",
    "    elif (grid[0][0] == grid[1][0] and grid[1][0] == grid[2][0] and grid[0][0] != '.'):\n",
    "        return(\"Congratulations\",grid[0][0],\" you got three in the left column!\") \n",
    "    elif (grid[0][1] == grid[1][1] and grid[1][1] == grid[2][1] and grid[0][1] != '.'):\n",
    "        return(\"Congratulations\",grid[0][1],\" you got three in the middle column!\")\n",
    "    elif (grid[0][2] == grid[1][2] and grid[1][2] == grid[2][2] and grid[0][2] != '.'):\n",
    "        return(\"Congratulations\",grid[0][2],\" you got three in the right column!\") \n",
    "    \n",
    "    elif (grid[0][0] == grid[1][1] and grid[1][1] == grid[2][2] and grid[0][0] != '.'):\n",
    "        return(\"Congratulations\",grid[0][0],\" you got three in the top left diagonal!\") \n",
    "    elif (grid[0][2] == grid[1][1] and grid[0][2] == grid[2][0] and grid[0][2] != '.'):\n",
    "        return(\"Congratulations\",grid[0][2],\" you got three in the bottom left diagonal!\") \n",
    "\n",
    "    return \"No Victor\""
   ]
  }
 ],
 "metadata": {
  "kernelspec": {
   "display_name": "Python 3 (ipykernel)",
   "language": "python",
   "name": "python3"
  },
  "language_info": {
   "codemirror_mode": {
    "name": "ipython",
    "version": 3
   },
   "file_extension": ".py",
   "mimetype": "text/x-python",
   "name": "python",
   "nbconvert_exporter": "python",
   "pygments_lexer": "ipython3",
   "version": "3.9.12"
  }
 },
 "nbformat": 4,
 "nbformat_minor": 5
}
