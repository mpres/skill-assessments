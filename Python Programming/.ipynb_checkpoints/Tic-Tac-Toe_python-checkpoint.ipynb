{
 "cells": [
  {
   "cell_type": "code",
   "execution_count": 1,
   "id": "112cd9ea-99b9-4b39-a860-3eeeb0167445",
   "metadata": {},
   "outputs": [],
   "source": [
    "#Mprelsey 7/24/23\n",
    "import os\n",
    "import sys\n",
    "import random\n",
    "import time\n",
    "import re"
   ]
  },
  {
   "cell_type": "code",
   "execution_count": 2,
   "id": "cabd1819-fea2-41dc-9b23-0cc89d056c48",
   "metadata": {},
   "outputs": [],
   "source": [
    "def printGrid(grid,round):\n",
    "    print('###############')\n",
    "    print('')\n",
    "    print('### Round',round, '###' )\n",
    "    print('')\n",
    "    print('###############')\n",
    "    print('')\n",
    "    print('Current Board')\n",
    "    print('')\n",
    "    print('~~~~~~~~~~~~~~')\n",
    "    print('     ','0','1','2')\n",
    "    i = 0\n",
    "    for g in grid:\n",
    "        print(\"   \",i,g[0],g[1],g[2])\n",
    "        i += 1\n",
    "    print('~~~~~~~~~~~~~~')\n",
    "    print('')"
   ]
  }
 ],
 "metadata": {
  "kernelspec": {
   "display_name": "Python 3 (ipykernel)",
   "language": "python",
   "name": "python3"
  },
  "language_info": {
   "codemirror_mode": {
    "name": "ipython",
    "version": 3
   },
   "file_extension": ".py",
   "mimetype": "text/x-python",
   "name": "python",
   "nbconvert_exporter": "python",
   "pygments_lexer": "ipython3",
   "version": "3.9.12"
  }
 },
 "nbformat": 4,
 "nbformat_minor": 5
}
